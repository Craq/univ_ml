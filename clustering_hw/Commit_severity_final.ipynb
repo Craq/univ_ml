{
 "cells": [
  {
   "cell_type": "markdown",
   "metadata": {},
   "source": [
    "## Machine Learning task of predicting the severity of a commit based on it's message, time and personal information"
   ]
  },
  {
   "cell_type": "markdown",
   "metadata": {},
   "source": [
    "# Data preparation"
   ]
  },
  {
   "cell_type": "code",
   "execution_count": 1,
   "metadata": {},
   "outputs": [],
   "source": [
    "import pandas as pd\n",
    "import matplotlib.pyplot as plt\n",
    "import seaborn as sns\n",
    "import numpy as np\n",
    "%matplotlib inline\n",
    "pd.set_option('max_columns',25)\n",
    "pd.set_option('max_rows',100)"
   ]
  },
  {
   "cell_type": "code",
   "execution_count": 2,
   "metadata": {},
   "outputs": [],
   "source": [
    "commits = pd.read_csv('commits.csv')\n",
    "issues = pd.read_csv('issues.csv')"
   ]
  },
  {
   "cell_type": "code",
   "execution_count": 3,
   "metadata": {},
   "outputs": [],
   "source": [
    "dataset = commits.merge(issues,on='key',how='left')"
   ]
  },
  {
   "cell_type": "code",
   "execution_count": 4,
   "metadata": {},
   "outputs": [
    {
     "data": {
      "text/html": [
       "<div>\n",
       "<style scoped>\n",
       "    .dataframe tbody tr th:only-of-type {\n",
       "        vertical-align: middle;\n",
       "    }\n",
       "\n",
       "    .dataframe tbody tr th {\n",
       "        vertical-align: top;\n",
       "    }\n",
       "\n",
       "    .dataframe thead th {\n",
       "        text-align: right;\n",
       "    }\n",
       "</style>\n",
       "<table border=\"1\" class=\"dataframe\">\n",
       "  <thead>\n",
       "    <tr style=\"text-align: right;\">\n",
       "      <th></th>\n",
       "      <th>author_name</th>\n",
       "      <th>author_email</th>\n",
       "      <th>committer_name</th>\n",
       "      <th>committer_email</th>\n",
       "      <th>time</th>\n",
       "      <th>time_offset</th>\n",
       "      <th>message_encoding</th>\n",
       "      <th>severity</th>\n",
       "    </tr>\n",
       "  </thead>\n",
       "  <tbody>\n",
       "    <tr>\n",
       "      <th>0</th>\n",
       "      <td>gatorsmile</td>\n",
       "      <td>gatorsmile@gmail.com</td>\n",
       "      <td>Reynold Xin</td>\n",
       "      <td>rxin@databricks.com</td>\n",
       "      <td>1478510197</td>\n",
       "      <td>-480</td>\n",
       "      <td>[SPARK-16904][SQL] Removal of Hive Built-in Ha...</td>\n",
       "      <td>3.0</td>\n",
       "    </tr>\n",
       "    <tr>\n",
       "      <th>1</th>\n",
       "      <td>Reynold Xin</td>\n",
       "      <td>rxin@databricks.com</td>\n",
       "      <td>Reynold Xin</td>\n",
       "      <td>rxin@databricks.com</td>\n",
       "      <td>1478501095</td>\n",
       "      <td>-480</td>\n",
       "      <td>[SPARK-18296][SQL] Use consistent naming for e...</td>\n",
       "      <td>3.0</td>\n",
       "    </tr>\n",
       "    <tr>\n",
       "      <th>2</th>\n",
       "      <td>Reynold Xin</td>\n",
       "      <td>rxin@databricks.com</td>\n",
       "      <td>Reynold Xin</td>\n",
       "      <td>rxin@databricks.com</td>\n",
       "      <td>1478500925</td>\n",
       "      <td>-480</td>\n",
       "      <td>[SPARK-18167][SQL] Disable flaky hive partitio...</td>\n",
       "      <td>3.0</td>\n",
       "    </tr>\n",
       "    <tr>\n",
       "      <th>3</th>\n",
       "      <td>Wenchen Fan</td>\n",
       "      <td>wenchen@databricks.com</td>\n",
       "      <td>Reynold Xin</td>\n",
       "      <td>rxin@databricks.com</td>\n",
       "      <td>1478487433</td>\n",
       "      <td>-480</td>\n",
       "      <td>[SPARK-18173][SQL] data source tables should s...</td>\n",
       "      <td>3.0</td>\n",
       "    </tr>\n",
       "    <tr>\n",
       "      <th>4</th>\n",
       "      <td>hyukjinkwon</td>\n",
       "      <td>gurwls223@gmail.com</td>\n",
       "      <td>Reynold Xin</td>\n",
       "      <td>rxin@databricks.com</td>\n",
       "      <td>1478487125</td>\n",
       "      <td>-480</td>\n",
       "      <td>[SPARK-18269][SQL] CSV datasource should read ...</td>\n",
       "      <td>3.0</td>\n",
       "    </tr>\n",
       "    <tr>\n",
       "      <th>5</th>\n",
       "      <td>Wojciech Szymanski</td>\n",
       "      <td>wk.szymanski@gmail.com</td>\n",
       "      <td>Yanbo Liang</td>\n",
       "      <td>ybliang8@gmail.com</td>\n",
       "      <td>1478446993</td>\n",
       "      <td>-480</td>\n",
       "      <td>[SPARK-18210][ML] Pipeline.copy does not creat...</td>\n",
       "      <td>1.0</td>\n",
       "    </tr>\n",
       "    <tr>\n",
       "      <th>6</th>\n",
       "      <td>hyukjinkwon</td>\n",
       "      <td>gurwls223@gmail.com</td>\n",
       "      <td>Sean Owen</td>\n",
       "      <td>sowen@cloudera.com</td>\n",
       "      <td>1478441497</td>\n",
       "      <td>0</td>\n",
       "      <td>[SPARK-17854][SQL] rand/randn allows null/long...</td>\n",
       "      <td>1.0</td>\n",
       "    </tr>\n",
       "    <tr>\n",
       "      <th>7</th>\n",
       "      <td>sethah</td>\n",
       "      <td>seth.hendrickson16@gmail.com</td>\n",
       "      <td>Yanbo Liang</td>\n",
       "      <td>ybliang8@gmail.com</td>\n",
       "      <td>1478410687</td>\n",
       "      <td>-420</td>\n",
       "      <td>[SPARK-18276][ML] ML models should copy the tr...</td>\n",
       "      <td>1.0</td>\n",
       "    </tr>\n",
       "    <tr>\n",
       "      <th>8</th>\n",
       "      <td>hyukjinkwon</td>\n",
       "      <td>gurwls223@gmail.com</td>\n",
       "      <td>Felix Cheung</td>\n",
       "      <td>felixcheung@apache.org</td>\n",
       "      <td>1478407653</td>\n",
       "      <td>-420</td>\n",
       "      <td>[MINOR][DOCUMENTATION] Fix some minor descript...</td>\n",
       "      <td>NaN</td>\n",
       "    </tr>\n",
       "    <tr>\n",
       "      <th>9</th>\n",
       "      <td>Susan X. Huynh</td>\n",
       "      <td>xhuynh@mesosphere.com</td>\n",
       "      <td>Sean Owen</td>\n",
       "      <td>sowen@cloudera.com</td>\n",
       "      <td>1478367915</td>\n",
       "      <td>0</td>\n",
       "      <td>[SPARK-17964][SPARKR] Enable SparkR with Mesos...</td>\n",
       "      <td>1.0</td>\n",
       "    </tr>\n",
       "  </tbody>\n",
       "</table>\n",
       "</div>"
      ],
      "text/plain": [
       "          author_name                  author_email committer_name  \\\n",
       "0          gatorsmile          gatorsmile@gmail.com    Reynold Xin   \n",
       "1         Reynold Xin           rxin@databricks.com    Reynold Xin   \n",
       "2         Reynold Xin           rxin@databricks.com    Reynold Xin   \n",
       "3         Wenchen Fan        wenchen@databricks.com    Reynold Xin   \n",
       "4         hyukjinkwon           gurwls223@gmail.com    Reynold Xin   \n",
       "5  Wojciech Szymanski        wk.szymanski@gmail.com    Yanbo Liang   \n",
       "6         hyukjinkwon           gurwls223@gmail.com      Sean Owen   \n",
       "7              sethah  seth.hendrickson16@gmail.com    Yanbo Liang   \n",
       "8         hyukjinkwon           gurwls223@gmail.com   Felix Cheung   \n",
       "9      Susan X. Huynh         xhuynh@mesosphere.com      Sean Owen   \n",
       "\n",
       "          committer_email        time  time_offset  \\\n",
       "0     rxin@databricks.com  1478510197         -480   \n",
       "1     rxin@databricks.com  1478501095         -480   \n",
       "2     rxin@databricks.com  1478500925         -480   \n",
       "3     rxin@databricks.com  1478487433         -480   \n",
       "4     rxin@databricks.com  1478487125         -480   \n",
       "5      ybliang8@gmail.com  1478446993         -480   \n",
       "6      sowen@cloudera.com  1478441497            0   \n",
       "7      ybliang8@gmail.com  1478410687         -420   \n",
       "8  felixcheung@apache.org  1478407653         -420   \n",
       "9      sowen@cloudera.com  1478367915            0   \n",
       "\n",
       "                                    message_encoding  severity  \n",
       "0  [SPARK-16904][SQL] Removal of Hive Built-in Ha...       3.0  \n",
       "1  [SPARK-18296][SQL] Use consistent naming for e...       3.0  \n",
       "2  [SPARK-18167][SQL] Disable flaky hive partitio...       3.0  \n",
       "3  [SPARK-18173][SQL] data source tables should s...       3.0  \n",
       "4  [SPARK-18269][SQL] CSV datasource should read ...       3.0  \n",
       "5  [SPARK-18210][ML] Pipeline.copy does not creat...       1.0  \n",
       "6  [SPARK-17854][SQL] rand/randn allows null/long...       1.0  \n",
       "7  [SPARK-18276][ML] ML models should copy the tr...       1.0  \n",
       "8  [MINOR][DOCUMENTATION] Fix some minor descript...       NaN  \n",
       "9  [SPARK-17964][SPARKR] Enable SparkR with Mesos...       1.0  "
      ]
     },
     "execution_count": 4,
     "metadata": {},
     "output_type": "execute_result"
    }
   ],
   "source": [
    "dataset.drop(dataset.columns.difference(['author_name','author_email','committer_name',\n",
    "                                         'committer_email','time','time_offset',\n",
    "                                         'message_encoding','severity']), 1, inplace=True)\n",
    "dataset.head(10)"
   ]
  },
  {
   "cell_type": "code",
   "execution_count": 5,
   "metadata": {},
   "outputs": [
    {
     "name": "stdout",
     "output_type": "stream",
     "text": [
      "Author emails: 1378\n",
      " Author names: 1310\n"
     ]
    }
   ],
   "source": [
    "print('Author emails: %r\\n Author names: %r'%(len(dataset.author_email.value_counts()),\n",
    "                                               len(dataset.author_name.value_counts())))"
   ]
  },
  {
   "cell_type": "code",
   "execution_count": 6,
   "metadata": {},
   "outputs": [
    {
     "name": "stdout",
     "output_type": "stream",
     "text": [
      "Committer emails: 244\n",
      " Committer names: 189\n"
     ]
    }
   ],
   "source": [
    "print('Committer emails: %r\\n Committer names: %r'%(len(dataset.committer_email.value_counts()),\n",
    "                                               len(dataset.committer_name.value_counts())))"
   ]
  },
  {
   "cell_type": "code",
   "execution_count": 7,
   "metadata": {},
   "outputs": [
    {
     "data": {
      "text/plain": [
       "(0, 8)"
      ]
     },
     "execution_count": 7,
     "metadata": {},
     "output_type": "execute_result"
    }
   ],
   "source": [
    "dataset.loc[dataset.committer_name.isna()].shape"
   ]
  },
  {
   "cell_type": "markdown",
   "metadata": {},
   "source": [
    "Much less committers than authors and some use more than 1 email. No NaN in name col."
   ]
  },
  {
   "cell_type": "markdown",
   "metadata": {},
   "source": [
    "# email investigation and activity visualization"
   ]
  },
  {
   "cell_type": "code",
   "execution_count": 8,
   "metadata": {},
   "outputs": [],
   "source": [
    "import re\n",
    "def func(email):\n",
    "    domain = re.search(\"@[\\w.]+\", email)\n",
    "    if domain is None:\n",
    "        return 'None'\n",
    "    return domain.group()\n",
    "emails = dataset.author_email.apply(lambda x: func(x)).value_counts()"
   ]
  },
  {
   "cell_type": "code",
   "execution_count": 9,
   "metadata": {
    "scrolled": true
   },
   "outputs": [
    {
     "data": {
      "text/plain": [
       "@gmail.com                   6260\n",
       "@databricks.com              4329\n",
       "@eecs.berkeley.edu           1689\n",
       "@apache.org                  1001\n",
       "@cloudera.com                 745\n",
       "@intel.com                    598\n",
       "@cs.berkeley.edu              459\n",
       "@us.ibm.com                   235\n",
       "@mosharaf                     212\n",
       "@huawei.com                   208\n",
       "@outlook.com                  175\n",
       "@imaginea.com                 174\n",
       "@oss.nttdata.co.jp            171\n",
       "@hotmail.com                  140\n",
       "@qq.com                       111\n",
       "@exigencecorp.com             110\n",
       "@pigscanfly.ca                108\n",
       "@quantifind.com               104\n",
       "@happy                         86\n",
       "@hortonworks.com               82\n",
       "@appier.com                    62\n",
       "@fb.com                        60\n",
       "@ip                            59\n",
       "@foxmail.com                   58\n",
       "@126.com                       56\n",
       "@berkeley.edu                  52\n",
       "@questtec.nl                   52\n",
       "@capitalone.com                51\n",
       "@netflix.com                   51\n",
       "@tw.ibm.com                    49\n",
       "@juma.me.uk                    48\n",
       "@redhat.com                    47\n",
       "@techaddict.me                 46\n",
       "@andrewash.com                 44\n",
       "@cse.ohio                      37\n",
       "@163.com                       37\n",
       "@users.noreply.github.com      36\n",
       "@koeninger.org                 36\n",
       "@yahoo                         36\n",
       "@googlemail.com                36\n",
       "@alpinenow.com                 33\n",
       "@webtrends.com                 32\n",
       "@aliyun.com                    32\n",
       "@me.com                        31\n",
       "@palantir.com                  30\n",
       "@guavus.com                    28\n",
       "@ooyala.com                    28\n",
       "@thatenemy                     25\n",
       "@japila.pl                     23\n",
       "@yahoo.com                     22\n",
       "Name: author_email, dtype: int64"
      ]
     },
     "execution_count": 9,
     "metadata": {},
     "output_type": "execute_result"
    }
   ],
   "source": [
    "values = emails[:30].keys().tolist() # Take top 25 most common emails\n",
    "counts = emails[:30].tolist()\n",
    "emails[:50]"
   ]
  },
  {
   "cell_type": "code",
   "execution_count": 10,
   "metadata": {},
   "outputs": [
    {
     "data": {
      "image/png": "[encoded data removed]",
      "text/plain": [
       "<Figure size 1080x504 with 1 Axes>"
      ]
     },
     "metadata": {},
     "output_type": "display_data"
    }
   ],
   "source": [
    "f, ax = plt.subplots(figsize=(15, 7))\n",
    "\n",
    "# plot 30 most common email domains\n",
    "g = sns.barplot(x=values,y=counts, ax=ax)\n",
    "plt.xticks(rotation=50)\n",
    "g.set_xlabel(\"Domain\",fontsize=20)\n",
    "g.set_ylabel(\"Counts\",fontsize=20)\n",
    "g.tick_params(labelsize=11)"
   ]
  },
  {
   "cell_type": "markdown",
   "metadata": {},
   "source": [
    "<b>User activity investigation</b>"
   ]
  },
  {
   "cell_type": "code",
   "execution_count": 11,
   "metadata": {},
   "outputs": [
    {
     "data": {
      "text/plain": [
       "Text(0,0.5,'Count of commits')"
      ]
     },
     "execution_count": 11,
     "metadata": {},
     "output_type": "execute_result"
    },
    {
     "data": {
      "image/png": "[encoded data removed]",
      "text/plain": [
       "<Figure size 1296x2376 with 2 Axes>"
      ]
     },
     "metadata": {},
     "output_type": "display_data"
    }
   ],
   "source": [
    "authors=dataset.author_name.value_counts()[:50] # take top 50 days\n",
    "committers=dataset.committer_name.value_counts()[:50] # take top 50 days\n",
    "\n",
    "f, (ax1,ax2) = plt.subplots(2,1,figsize=(18, 33))\n",
    "\n",
    "# plot 60 most common authors\n",
    "authors_name = authors.keys().tolist()\n",
    "author_count = authors.tolist()\n",
    "\n",
    "author_plot = sns.barplot(x=authors_name,y=author_count,palette='BuGn_r',ax=ax1)\n",
    "author_plot.set_xticklabels(authors_name,rotation=55)\n",
    "author_plot.tick_params(labelsize=10)\n",
    "author_plot.set_xlabel(\"Author name\",fontsize=20)\n",
    "author_plot.set_ylabel(\"Count of reps\",fontsize=20)\n",
    "\n",
    "# plot 60 most common committers\n",
    "committer_name = committers.keys().tolist()\n",
    "committer_count = committers.tolist()\n",
    "\n",
    "committer_plot = sns.barplot(x=committer_name,y=committer_count,palette='GnBu_d',ax=ax2)\n",
    "committer_plot.set_xticklabels(committer_name,rotation=55)\n",
    "committer_plot.tick_params(labelsize=9)\n",
    "committer_plot.set_xlabel(\"Committer name\",fontsize=20)\n",
    "committer_plot.set_ylabel(\"Count of commits\",fontsize=20)"
   ]
  },
  {
   "cell_type": "markdown",
   "metadata": {},
   "source": [
    "There are users who are both authors and committers. The next step is to find them and see what their impact is."
   ]
  },
  {
   "cell_type": "code",
   "execution_count": 12,
   "metadata": {},
   "outputs": [
    {
     "name": "stdout",
     "output_type": "stream",
     "text": [
      "Number of authors + committers:  187\n"
     ]
    }
   ],
   "source": [
    "auth_com = dataset.loc[dataset.author_name == dataset.committer_name]\n",
    "authors_and_committers = auth_com.author_name.unique()\n",
    "print('Number of authors + committers: ',len(authors_and_committers))"
   ]
  },
  {
   "cell_type": "code",
   "execution_count": 13,
   "metadata": {},
   "outputs": [
    {
     "name": "stdout",
     "output_type": "stream",
     "text": [
      "All commits 19226 \n",
      "Commit as author: 9219 \n",
      "Percent of author commits: 0.48\n"
     ]
    }
   ],
   "source": [
    "dataset_commits = dataset.shape[0]\n",
    "auth_and_com = auth_com.shape[0]\n",
    "print('All commits %r \\nCommit as author: %r \\nPercent of author commits: %.2f'%\n",
    "      (dataset.shape[0],auth_and_com,auth_and_com/dataset_commits))"
   ]
  },
  {
   "cell_type": "code",
   "execution_count": 14,
   "metadata": {},
   "outputs": [],
   "source": [
    "from datetime import datetime, timedelta\n",
    "\n",
    "def convert_date(x):\n",
    "    return datetime.fromtimestamp(x).strftime('%Y-%m-%d')\n",
    "\n",
    "def convert_time(x):\n",
    "    return datetime.fromtimestamp(x).strftime('%H:%M:%S')\n",
    "\n",
    "def get_day(x):\n",
    "    return datetime.fromtimestamp(x).weekday()\n",
    "\n",
    "def get_year(x):\n",
    "    return datetime.fromtimestamp(x).year\n",
    "\n",
    "def get_month(x):\n",
    "    return datetime.fromtimestamp(x).month\n",
    "\n",
    "def previous_commit(x):\n",
    "    previous_date = dataset.loc[(x.committer_name==dataset.committer_name)&(dataset.time<x.time)]\n",
    "    if len(previous_date)==0: return -1\n",
    "    return previous_date.iloc[-1].time\n",
    "\n",
    "dataset = dataset.merge(dataset.apply(lambda x: pd.Series({'human_date':convert_date(x.time-x.time_offset), \n",
    "                                                           'human_time':convert_time(x.time-x.time_offset),\n",
    "                                                           'day_of_week':get_day(x.time-x.time_offset),\n",
    "                                                           'year':get_year(x.time-x.time_offset),\n",
    "                                                           'month':get_month(x.time-x.time_offset),\n",
    "                                                           'previous_commit':previous_commit(x)}), \n",
    "                                      axis=1), \n",
    "    left_index=True, right_index=True)"
   ]
  },
  {
   "cell_type": "markdown",
   "metadata": {},
   "source": [
    "<b>Users and days with most actions</b>"
   ]
  },
  {
   "cell_type": "code",
   "execution_count": 15,
   "metadata": {
    "scrolled": false
   },
   "outputs": [
    {
     "data": {
      "text/plain": [
       "committer_name    human_date\n",
       "Matei Zaharia     2013-07-05    36\n",
       "Patrick Wendell   2013-06-22    32\n",
       "Ankur Dave        2013-12-15    31\n",
       "Ali Ghodsi        2013-08-21    27\n",
       "Ankur Dave        2014-01-10    26\n",
       "Jey Kottalam      2013-08-16    25\n",
       "Patrick Wendell   2013-01-14    24\n",
       "Matei Zaharia     2013-09-02    24\n",
       "Ankur Dave        2014-01-11    23\n",
       "jerryshao         2013-07-24    22\n",
       "Reynold Xin       2014-01-14    22\n",
       "                  2015-07-19    22\n",
       "Matei Zaharia     2013-02-26    21\n",
       "Raymond Liu       2014-01-03    21\n",
       "Michael Armbrust  2014-12-17    20\n",
       "Reynold Xin       2015-08-07    19\n",
       "Matei Zaharia     2011-06-01    18\n",
       "Patrick Wendell   2014-01-08    18\n",
       "Ankur Dave        2014-01-14    17\n",
       "Reynold Xin       2014-06-20    17\n",
       "Matei Zaharia     2012-10-07    17\n",
       "Andrew Or         2013-12-27    17\n",
       "Ismael Juma       2011-05-27    17\n",
       "Patrick Wendell   2014-01-14    16\n",
       "Matei Zaharia     2013-01-21    16\n",
       "Reynold Xin       2015-06-12    16\n",
       "                  2015-05-31    16\n",
       "Davies Liu        2015-07-09    16\n",
       "Reynold Xin       2014-07-16    16\n",
       "                  2016-03-15    15\n",
       "                  2013-12-01    15\n",
       "                  2015-08-03    14\n",
       "                  2015-07-30    14\n",
       "                  2015-08-05    14\n",
       "                  2015-07-21    14\n",
       "Patrick Wendell   2014-01-13    14\n",
       "Reynold Xin       2015-07-04    14\n",
       "                  2014-10-29    14\n",
       "Michael Armbrust  2015-02-06    14\n",
       "Matei Zaharia     2013-08-30    14\n",
       "                  2012-10-14    14\n",
       "                  2012-08-27    14\n",
       "                  2012-07-29    14\n",
       "                  2011-07-14    14\n",
       "                  2010-10-16    14\n",
       "                  2010-09-29    14\n",
       "Michael Armbrust  2015-02-17    14\n",
       "                  2014-08-14    14\n",
       "Andrew Or         2015-12-16    14\n",
       "                  2015-02-13    14\n",
       "Name: human_date, dtype: int64"
      ]
     },
     "execution_count": 15,
     "metadata": {},
     "output_type": "execute_result"
    }
   ],
   "source": [
    "user_actions = pd.DataFrame(dataset.groupby(['committer_name'])['human_date'].value_counts())\n",
    "user_actions.human_date.sort_values(ascending=False)[:50] # take top 50 commit count"
   ]
  },
  {
   "cell_type": "code",
   "execution_count": 16,
   "metadata": {},
   "outputs": [
    {
     "data": {
      "text/plain": [
       "human_date    2.597406\n",
       "dtype: float64"
      ]
     },
     "execution_count": 16,
     "metadata": {},
     "output_type": "execute_result"
    }
   ],
   "source": [
    "user_actions.mean()"
   ]
  },
  {
   "cell_type": "markdown",
   "metadata": {},
   "source": [
    "<b> 60 days with most commits </b>"
   ]
  },
  {
   "cell_type": "code",
   "execution_count": 17,
   "metadata": {},
   "outputs": [
    {
     "data": {
      "text/plain": [
       "Text(0,0.5,'Count of commits')"
      ]
     },
     "execution_count": 17,
     "metadata": {},
     "output_type": "execute_result"
    },
    {
     "data": {
      "image/png": "[encoded data removed]",
      "text/plain": [
       "<Figure size 1224x504 with 1 Axes>"
      ]
     },
     "metadata": {},
     "output_type": "display_data"
    }
   ],
   "source": [
    "work = dataset.human_date.value_counts()[:60] # number of days\n",
    "dates = work.keys().tolist()\n",
    "commits = work.tolist()\n",
    "\n",
    "f, ax = plt.subplots(figsize=(17, 7))\n",
    "\n",
    "day_commits = sns.barplot(x=dates,y=commits,palette='pastel',ax=ax)\n",
    "day_commits.set_xticklabels(dates,rotation=55)\n",
    "day_commits.tick_params(labelsize=10)\n",
    "day_commits.set_xlabel(\"Date\",fontsize=20)\n",
    "day_commits.set_ylabel(\"Count of commits\",fontsize=20)"
   ]
  },
  {
   "cell_type": "code",
   "execution_count": 18,
   "metadata": {},
   "outputs": [
    {
     "name": "stdout",
     "output_type": "stream",
     "text": [
      "Mean commits per day: 39.87\n"
     ]
    }
   ],
   "source": [
    "print('Mean commits per day: %.2f'%work.mean())"
   ]
  },
  {
   "cell_type": "markdown",
   "metadata": {},
   "source": [
    "# Investigating dataset missing values"
   ]
  },
  {
   "cell_type": "code",
   "execution_count": 19,
   "metadata": {},
   "outputs": [
    {
     "data": {
      "text/plain": [
       "author_name            0\n",
       "author_email           0\n",
       "committer_name         0\n",
       "committer_email        0\n",
       "time                   0\n",
       "time_offset            0\n",
       "message_encoding       0\n",
       "severity            7751\n",
       "human_date             0\n",
       "human_time             0\n",
       "day_of_week            0\n",
       "year                   0\n",
       "month                  0\n",
       "previous_commit        0\n",
       "dtype: int64"
      ]
     },
     "execution_count": 19,
     "metadata": {},
     "output_type": "execute_result"
    }
   ],
   "source": [
    "dataset.isnull().sum()"
   ]
  },
  {
   "cell_type": "code",
   "execution_count": 20,
   "metadata": {},
   "outputs": [
    {
     "data": {
      "text/plain": [
       "0.4031519816914595"
      ]
     },
     "execution_count": 20,
     "metadata": {},
     "output_type": "execute_result"
    }
   ],
   "source": [
    "len(dataset.loc[dataset.severity.isna()])/dataset.shape[0]"
   ]
  },
  {
   "cell_type": "markdown",
   "metadata": {},
   "source": [
    "40% of our data has a NaN target. This is a significant amount, so let's try filling it in in a semi-supervised manner. But first we have to encode our categorical features."
   ]
  },
  {
   "cell_type": "markdown",
   "metadata": {},
   "source": [
    "# Feature encoding"
   ]
  },
  {
   "cell_type": "code",
   "execution_count": 21,
   "metadata": {},
   "outputs": [],
   "source": [
    "from sklearn.preprocessing import LabelEncoder"
   ]
  },
  {
   "cell_type": "code",
   "execution_count": 22,
   "metadata": {},
   "outputs": [],
   "source": [
    "names = dataset['author_name'].tolist()+dataset['committer_name'].tolist()\n",
    "emails = dataset['author_email'].tolist()+dataset['committer_email'].tolist()\n",
    "\n",
    "categories_names = LabelEncoder()\n",
    "categories_names.fit(names)\n",
    "\n",
    "dataset['author_name']=categories_names.transform(dataset['author_name'])\n",
    "dataset['committer_name']=categories_names.transform(dataset['committer_name'])\n",
    "\n",
    "categories_emails = LabelEncoder()\n",
    "categories_emails.fit(emails)\n",
    "\n",
    "dataset['author_email']=categories_emails.transform(dataset['author_email'])\n",
    "dataset['committer_email']=categories_emails.transform(dataset['committer_email'])"
   ]
  },
  {
   "cell_type": "markdown",
   "metadata": {},
   "source": [
    "# Text cleansing and encoding"
   ]
  },
  {
   "cell_type": "code",
   "execution_count": 23,
   "metadata": {},
   "outputs": [],
   "source": [
    "dataset['message_encoding'] = messages"
   ]
  },
  {
   "cell_type": "code",
   "execution_count": 23,
   "metadata": {},
   "outputs": [],
   "source": [
    "import re\n",
    "def clean_text(text):\n",
    "    text = text.lower()\n",
    "    text = text.replace('\\n', ' ')\n",
    "    text = text.replace('```', '')\n",
    "    text = re.sub(r'\\[.*\\]', '', text)\n",
    "    text = text.replace(r'http\\S+', '')\n",
    "    text = text.replace('##', '')\n",
    "    text = text.replace('```', '')\n",
    "    text = re.sub(r'\\w+:\\/{2}[\\d\\w-]+(\\.[\\d\\w-]+)*(?:(?:\\/[^\\s/]*))*', '', text)\n",
    "    text = re.sub(r\"what's\", \"what is \", text)\n",
    "    text = re.sub(r\"\\'s\", \" \", text)\n",
    "    text = re.sub(r\"\\'ve\", \" have \", text)\n",
    "    text = re.sub(r\"can't\", \"can not \", text)\n",
    "    text = re.sub(r\"n't\", \" not \", text)\n",
    "    text = re.sub(r\"i'm\", \"i am \", text)\n",
    "    text = re.sub(r\"\\'re\", \" are \", text)\n",
    "    text = re.sub(r\"\\'d\", \" would \", text)\n",
    "    text = re.sub(r\"\\'ll\", \" will \", text)\n",
    "    text = text.strip(' ')\n",
    "    return text\n",
    "\n",
    "dataset['message_encoding'] = dataset.message_encoding.apply(lambda x: clean_text(x))"
   ]
  },
  {
   "cell_type": "code",
   "execution_count": 24,
   "metadata": {
    "scrolled": true
   },
   "outputs": [
    {
     "data": {
      "text/plain": [
       "'add asynchronous actions documentation   what changes were proposed in this pull request?  add asynchronous actions documentation inside action of programming guide   how was this patch tested?  check the documentation indentation and formatting with md preview.  author: sandy <phalodi@gmail.com>  closes #14104 from phalodi/spark-16438.'"
      ]
     },
     "execution_count": 24,
     "metadata": {},
     "output_type": "execute_result"
    }
   ],
   "source": [
    "dataset['message_encoding'][1200]"
   ]
  },
  {
   "cell_type": "markdown",
   "metadata": {},
   "source": [
    "<b> Pipeline of CountVectorizer -> TfIdf to extract features from commit messages </b><br>\n",
    "Also tried HashingVectorizer, but this pipeline yielded a better result."
   ]
  },
  {
   "cell_type": "code",
   "execution_count": 28,
   "metadata": {},
   "outputs": [],
   "source": [
    "from sklearn.feature_extraction.text import CountVectorizer\n",
    "from sklearn.feature_extraction.text import TfidfTransformer\n",
    "from sklearn.feature_extraction.text import HashingVectorizer\n",
    "from sklearn.pipeline import Pipeline"
   ]
  },
  {
   "cell_type": "code",
   "execution_count": 26,
   "metadata": {},
   "outputs": [],
   "source": [
    "text_encoding = Pipeline([\n",
    "        ('count_vect',CountVectorizer(max_features=2000,stop_words='english')),\n",
    "        ('tfidf',TfidfTransformer())\n",
    "])\n",
    "train_tf = text_encoding.fit_transform(dataset['message_encoding'])"
   ]
  },
  {
   "cell_type": "markdown",
   "metadata": {},
   "source": [
    "# Train/test split"
   ]
  },
  {
   "cell_type": "code",
   "execution_count": 318,
   "metadata": {},
   "outputs": [],
   "source": [
    "hv = HashingVectorizer(norm='l1',n_features=5000,stop_words='english')\n",
    "train_tf = hv.transform(dataset.message_encoding)"
   ]
  },
  {
   "cell_type": "code",
   "execution_count": 351,
   "metadata": {},
   "outputs": [
    {
     "data": {
      "text/plain": [
       "(19226, 2000)"
      ]
     },
     "execution_count": 351,
     "metadata": {},
     "output_type": "execute_result"
    }
   ],
   "source": [
    "train_tf.shape"
   ]
  },
  {
   "cell_type": "code",
   "execution_count": 27,
   "metadata": {},
   "outputs": [],
   "source": [
    "dataset_clean = dataset.drop(['message_encoding','human_date','human_time'],axis=1)"
   ]
  },
  {
   "cell_type": "code",
   "execution_count": 28,
   "metadata": {},
   "outputs": [],
   "source": [
    "tfidf = pd.DataFrame(train_tf.todense())\n",
    "dataset_clean_tf = dataset_clean.join(tfidf,how='left')\n",
    "\n",
    "unlabeled = dataset_clean_tf.loc[dataset_clean_tf.severity.isna()]\n",
    "dataset_clean_tf.dropna(inplace=True)\n",
    "dataset_clean_tf.reset_index(inplace=True)\n",
    "unlabeled.reset_index(inplace=True)"
   ]
  },
  {
   "cell_type": "code",
   "execution_count": 29,
   "metadata": {},
   "outputs": [],
   "source": [
    "dataset_clean_tf.drop(['index'],axis=1,inplace=True)"
   ]
  },
  {
   "cell_type": "code",
   "execution_count": 30,
   "metadata": {
    "scrolled": false
   },
   "outputs": [
    {
     "name": "stderr",
     "output_type": "stream",
     "text": [
      "C:\\ProgramData\\Anaconda3\\lib\\site-packages\\pandas\\core\\frame.py:3694: SettingWithCopyWarning: \n",
      "A value is trying to be set on a copy of a slice from a DataFrame\n",
      "\n",
      "See the caveats in the documentation: http://pandas.pydata.org/pandas-docs/stable/indexing.html#indexing-view-versus-copy\n",
      "  errors=errors)\n"
     ]
    }
   ],
   "source": [
    "from sklearn.model_selection import train_test_split\n",
    "\n",
    "X,Y = dataset_clean_tf.drop(['severity'],axis=1), dataset_clean_tf.severity\n",
    "unlabeled.drop(['severity'],axis=1,inplace=True)\n",
    "\n",
    "X_train, X_test, Y_train, Y_test = train_test_split(X, Y, test_size=0.33, random_state=42)"
   ]
  },
  {
   "cell_type": "markdown",
   "metadata": {},
   "source": [
    "# Model selection with K-Fold cross-validation"
   ]
  },
  {
   "cell_type": "markdown",
   "metadata": {},
   "source": [
    "In this model selecion, the models and architectures I'll use are: Random Forest, XGBoost, Decision Tree, Naive Bayes and a fully-connected Neural Network."
   ]
  },
  {
   "cell_type": "code",
   "execution_count": 19,
   "metadata": {
    "scrolled": true
   },
   "outputs": [
    {
     "name": "stdout",
     "output_type": "stream",
     "text": [
      "XGBoost: 58.01% (1.51%)\n",
      "Random Forest: 56.28% (1.39%)\n",
      "Decision Tree: 50.60% (2.02%)\n",
      "Gaussian Naive Bayes: 54.62% (2.02%)\n"
     ]
    }
   ],
   "source": [
    "from sklearn.model_selection import cross_val_score\n",
    "from sklearn.model_selection import KFold\n",
    "from sklearn.ensemble import RandomForestClassifier\n",
    "from sklearn.tree import DecisionTreeClassifier\n",
    "from sklearn.svm import SVC\n",
    "from sklearn.naive_bayes import GaussianNB\n",
    "import warnings\n",
    "from xgboost import XGBClassifier\n",
    "\n",
    "warnings.filterwarnings(action='ignore')\n",
    "\n",
    "kfold = KFold(n_splits=10, shuffle=True, random_state=42)\n",
    "\n",
    "rfc = RandomForestClassifier(n_jobs=-1)\n",
    "xgbc = XGBClassifier(n_jobs=-1,n_estimators=10) #limit to 10 because 100 trees is default and will take forever to run\n",
    "dtc = DecisionTreeClassifier()\n",
    "nbc = GaussianNB()\n",
    "\n",
    "results_xgbc = cross_val_score(xgbc, X_train, Y_train, cv=kfold)\n",
    "print(\"XGBoost: %.2f%% (%.2f%%)\" % (results_xgbc.mean()*100, results_xgbc.std()*100))\n",
    "\n",
    "results_rfc = cross_val_score(rfc, X_train, Y_train, cv=kfold)\n",
    "print(\"Random Forest: %.2f%% (%.2f%%)\" % (results_rfc.mean()*100, results_rfc.std()*100))\n",
    "\n",
    "results_dtc = cross_val_score(dtc, X_train, Y_train, cv=kfold)\n",
    "print(\"Decision Tree: %.2f%% (%.2f%%)\" % (results_dtc.mean()*100, results_dtc.std()*100))\n",
    "\n",
    "results_nbc = cross_val_score(nbc, X_train, Y_train, cv=kfold)\n",
    "print(\"Gaussian Naive Bayes: %.2f%% (%.2f%%)\" % (results_nbc.mean()*100, results_dtc.std()*100))"
   ]
  },
  {
   "cell_type": "code",
   "execution_count": 78,
   "metadata": {},
   "outputs": [],
   "source": [
    "from keras.models import Sequential\n",
    "from keras.layers import Dense, Dropout\n",
    "from keras.optimizers import Adam\n",
    "def build_model():\n",
    "    model = Sequential()\n",
    "\n",
    "    model.add(Dense(units=2048, activation='sigmoid', input_dim=2010))\n",
    "    model.add(Dropout(0.5))\n",
    "    model.add(Dense(units=2048, activation='sigmoid'))\n",
    "    model.add(Dropout(0.5))\n",
    "    model.add(Dense(units=2048, activation='sigmoid'))\n",
    "    model.add(Dropout(0.5))\n",
    "    model.add(Dense(units=5, activation='softmax'))\n",
    "    \n",
    "    opt= Adam(lr=4e-4,decay=1e-6)\n",
    "    model.compile(optimizer=opt,\n",
    "                loss='categorical_crossentropy',\n",
    "                metrics=['acc'])\n",
    "\n",
    "    return model"
   ]
  },
  {
   "cell_type": "code",
   "execution_count": 80,
   "metadata": {
    "scrolled": true
   },
   "outputs": [
    {
     "name": "stdout",
     "output_type": "stream",
     "text": [
      "Epoch 1/15\n",
      "7688/7688 [==============================] - 25s 3ms/step - loss: 1.4777 - acc: 0.4831\n",
      "Epoch 2/15\n",
      "7688/7688 [==============================] - 26s 3ms/step - loss: 1.3654 - acc: 0.4999\n",
      "Epoch 3/15\n",
      "7688/7688 [==============================] - 22s 3ms/step - loss: 1.3240 - acc: 0.5150\n",
      "Epoch 4/15\n",
      "7688/7688 [==============================] - 19s 3ms/step - loss: 1.2942 - acc: 0.5269\n",
      "Epoch 5/15\n",
      "7688/7688 [==============================] - 19s 3ms/step - loss: 1.2799 - acc: 0.5325\n",
      "Epoch 6/15\n",
      "7688/7688 [==============================] - 19s 3ms/step - loss: 1.2643 - acc: 0.5451\n",
      "Epoch 7/15\n",
      "7688/7688 [==============================] - 19s 2ms/step - loss: 1.2527 - acc: 0.5499\n",
      "Epoch 8/15\n",
      "7688/7688 [==============================] - 19s 3ms/step - loss: 1.2475 - acc: 0.5501\n",
      "Epoch 9/15\n",
      "7688/7688 [==============================] - 20s 3ms/step - loss: 1.2482 - acc: 0.5502\n",
      "Epoch 10/15\n",
      "7688/7688 [==============================] - 19s 3ms/step - loss: 1.2427 - acc: 0.5502\n",
      "Epoch 11/15\n",
      "7688/7688 [==============================] - 20s 3ms/step - loss: 1.2427 - acc: 0.5503\n",
      "Epoch 12/15\n",
      "7688/7688 [==============================] - 20s 3ms/step - loss: 1.2447 - acc: 0.5502\n",
      "Epoch 13/15\n",
      "7688/7688 [==============================] - 20s 3ms/step - loss: 1.2424 - acc: 0.5503\n",
      "Epoch 14/15\n",
      "7688/7688 [==============================] - 20s 3ms/step - loss: 1.2344 - acc: 0.5502\n",
      "Epoch 15/15\n",
      "7688/7688 [==============================] - 20s 3ms/step - loss: 1.2383 - acc: 0.5501\n"
     ]
    },
    {
     "data": {
      "text/plain": [
       "<keras.callbacks.History at 0x16a3c0c88>"
      ]
     },
     "execution_count": 80,
     "metadata": {},
     "output_type": "execute_result"
    }
   ],
   "source": [
    "from keras.callbacks import EarlyStopping\n",
    "stopper = EarlyStopping(min_delta=1e-5,patience=5,monitor='loss')\n",
    "\n",
    "model = build_model()\n",
    "model.fit(X_train, pd.get_dummies(Y_train),batch_size=128,epochs=15,callbacks=[stopper])"
   ]
  },
  {
   "cell_type": "markdown",
   "metadata": {},
   "source": [
    "# Overview of model selection<br>\n",
    "\n",
    "As expected, xgboost outperformed all algorithms, including a simple dense NN. Neural Networks will outperform any classical ML algorithms with the presence of a large dataset and resources to train it on. A train set of ~7.7k is not enough for a NN or any more advance layers. Although if there was enough data, I think something could be done with the use of LSTM on this kind of data.<br><br>\n",
    "But <b>xgboost has outperformed every algorithm</b>, so it's time to move on to hyperparameter optimization."
   ]
  },
  {
   "cell_type": "markdown",
   "metadata": {},
   "source": [
    "# Hyperparameter optimization"
   ]
  },
  {
   "cell_type": "code",
   "execution_count": 34,
   "metadata": {},
   "outputs": [
    {
     "name": "stderr",
     "output_type": "stream",
     "text": [
      "C:\\ProgramData\\Anaconda3\\lib\\site-packages\\sklearn\\preprocessing\\label.py:151: DeprecationWarning: The truth value of an empty array is ambiguous. Returning False, but in future this will result in an error. Use `array.size > 0` to check that an array is not empty.\n",
      "  if diff:\n"
     ]
    },
    {
     "data": {
      "text/plain": [
       "0.5883284922101928"
      ]
     },
     "execution_count": 34,
     "metadata": {},
     "output_type": "execute_result"
    }
   ],
   "source": [
    "#Baseline\n",
    "from sklearn.metrics import accuracy_score\n",
    "xgb1 = XGBClassifier(\n",
    "    learning_rate =0.1,\n",
    "    n_estimators=10, \n",
    "    max_depth=5,\n",
    "    min_child_weight=1,\n",
    "    gamma=0,\n",
    "    subsample=0.8,\n",
    "    colsample_bytree=0.8,\n",
    "    n_jobs=-1,\n",
    "    scale_pos_weight=1,\n",
    "    seed=42)\n",
    "xgb1.fit(X_train,Y_train)\n",
    "accuracy_score(Y_test,xgb1.predict(X_test))"
   ]
  },
  {
   "cell_type": "code",
   "execution_count": 37,
   "metadata": {},
   "outputs": [
    {
     "name": "stderr",
     "output_type": "stream",
     "text": [
      "C:\\ProgramData\\Anaconda3\\lib\\site-packages\\sklearn\\model_selection\\_search.py:761: DeprecationWarning: The grid_scores_ attribute was deprecated in version 0.18 in favor of the more elaborate cv_results_ attribute. The grid_scores_ attribute will not be available from 0.20\n",
      "  DeprecationWarning)\n"
     ]
    },
    {
     "data": {
      "text/plain": [
       "([mean: 0.58545, std: 0.00827, params: {'max_depth': 5, 'min_child_weight': 1},\n",
       "  mean: 0.58298, std: 0.00638, params: {'max_depth': 5, 'min_child_weight': 3},\n",
       "  mean: 0.58285, std: 0.00627, params: {'max_depth': 5, 'min_child_weight': 5},\n",
       "  mean: 0.58415, std: 0.00760, params: {'max_depth': 10, 'min_child_weight': 1},\n",
       "  mean: 0.58429, std: 0.00766, params: {'max_depth': 10, 'min_child_weight': 3},\n",
       "  mean: 0.58532, std: 0.00741, params: {'max_depth': 10, 'min_child_weight': 5},\n",
       "  mean: 0.58415, std: 0.00982, params: {'max_depth': 20, 'min_child_weight': 1},\n",
       "  mean: 0.58480, std: 0.00794, params: {'max_depth': 20, 'min_child_weight': 3},\n",
       "  mean: 0.58519, std: 0.00867, params: {'max_depth': 20, 'min_child_weight': 5},\n",
       "  mean: 0.58311, std: 0.00927, params: {'max_depth': 40, 'min_child_weight': 1},\n",
       "  mean: 0.58155, std: 0.00879, params: {'max_depth': 40, 'min_child_weight': 3},\n",
       "  mean: 0.58038, std: 0.00901, params: {'max_depth': 40, 'min_child_weight': 5},\n",
       "  mean: 0.57635, std: 0.00711, params: {'max_depth': 60, 'min_child_weight': 1},\n",
       "  mean: 0.58298, std: 0.00986, params: {'max_depth': 60, 'min_child_weight': 3},\n",
       "  mean: 0.58155, std: 0.00822, params: {'max_depth': 60, 'min_child_weight': 5}],\n",
       " {'max_depth': 5, 'min_child_weight': 1},\n",
       " 0.5854533871177907)"
      ]
     },
     "execution_count": 37,
     "metadata": {},
     "output_type": "execute_result"
    }
   ],
   "source": [
    "from sklearn.model_selection import GridSearchCV\n",
    "\n",
    "param1 = {\n",
    " 'max_depth':[5,10,20,40,60],\n",
    " 'min_child_weight':range(1,6,2)\n",
    "}\n",
    "gsearch1 = GridSearchCV(estimator=XGBClassifier(\n",
    "        learning_rate =0.1,\n",
    "        n_estimators=10, \n",
    "        max_depth=5,\n",
    "        min_child_weight=1, \n",
    "        gamma=0, \n",
    "        subsample=0.8, \n",
    "        colsample_bytree=0.8,\n",
    "        n_jobs=-1, \n",
    "        scale_pos_weight=1, \n",
    "        seed=42), \n",
    "    param_grid = param1, scoring='accuracy',n_jobs=-1,iid=False, cv=5)\n",
    "gsearch1.fit(X_train,Y_train)\n",
    "gsearch1.grid_scores_, gsearch1.best_params_, gsearch1.best_score_"
   ]
  },
  {
   "cell_type": "code",
   "execution_count": 40,
   "metadata": {},
   "outputs": [
    {
     "name": "stderr",
     "output_type": "stream",
     "text": [
      "C:\\ProgramData\\Anaconda3\\lib\\site-packages\\sklearn\\model_selection\\_search.py:761: DeprecationWarning: The grid_scores_ attribute was deprecated in version 0.18 in favor of the more elaborate cv_results_ attribute. The grid_scores_ attribute will not be available from 0.20\n",
      "  DeprecationWarning)\n"
     ]
    },
    {
     "data": {
      "text/plain": [
       "([mean: 0.58376, std: 0.00748, params: {'max_depth': 4, 'min_child_weight': 1},\n",
       "  mean: 0.58415, std: 0.00732, params: {'max_depth': 4, 'min_child_weight': 2},\n",
       "  mean: 0.58545, std: 0.00827, params: {'max_depth': 5, 'min_child_weight': 1},\n",
       "  mean: 0.58480, std: 0.00757, params: {'max_depth': 5, 'min_child_weight': 2},\n",
       "  mean: 0.58376, std: 0.00733, params: {'max_depth': 6, 'min_child_weight': 1},\n",
       "  mean: 0.58350, std: 0.00862, params: {'max_depth': 6, 'min_child_weight': 2}],\n",
       " {'max_depth': 5, 'min_child_weight': 1},\n",
       " 0.5854533871177907)"
      ]
     },
     "execution_count": 40,
     "metadata": {},
     "output_type": "execute_result"
    }
   ],
   "source": [
    "param2 = {\n",
    " 'max_depth':[4,5,6],\n",
    " 'min_child_weight':[1,2]\n",
    "}\n",
    "gsearch2 = GridSearchCV(estimator=XGBClassifier(\n",
    "        learning_rate =0.1,\n",
    "        n_estimators=10, \n",
    "        max_depth=5,\n",
    "        min_child_weight=1, \n",
    "        gamma=0, \n",
    "        subsample=0.8, \n",
    "        colsample_bytree=0.8,\n",
    "        n_jobs=-1, \n",
    "        scale_pos_weight=1, \n",
    "        seed=42), \n",
    "    param_grid = param2, scoring='accuracy',n_jobs=-1,iid=False, cv=5)\n",
    "gsearch2.fit(X_train,Y_train)\n",
    "gsearch2.grid_scores_, gsearch2.best_params_, gsearch2.best_score_"
   ]
  },
  {
   "cell_type": "code",
   "execution_count": 41,
   "metadata": {},
   "outputs": [
    {
     "name": "stderr",
     "output_type": "stream",
     "text": [
      "C:\\ProgramData\\Anaconda3\\lib\\site-packages\\sklearn\\model_selection\\_search.py:761: DeprecationWarning: The grid_scores_ attribute was deprecated in version 0.18 in favor of the more elaborate cv_results_ attribute. The grid_scores_ attribute will not be available from 0.20\n",
      "  DeprecationWarning)\n"
     ]
    },
    {
     "data": {
      "text/plain": [
       "([mean: 0.58545, std: 0.00827, params: {'gamma': 0.0},\n",
       "  mean: 0.58545, std: 0.00827, params: {'gamma': 0.1},\n",
       "  mean: 0.58545, std: 0.00827, params: {'gamma': 0.2},\n",
       "  mean: 0.58571, std: 0.00840, params: {'gamma': 0.3},\n",
       "  mean: 0.58558, std: 0.00792, params: {'gamma': 0.4}],\n",
       " {'gamma': 0.3},\n",
       " 0.5857137192891033)"
      ]
     },
     "execution_count": 41,
     "metadata": {},
     "output_type": "execute_result"
    }
   ],
   "source": [
    "param3 = {\n",
    "    'gamma':[i/10.0 for i in range(0,5)]\n",
    "}\n",
    "gsearch3 = GridSearchCV(estimator=XGBClassifier(\n",
    "        learning_rate =0.1,\n",
    "        n_estimators=10, \n",
    "        max_depth=5,\n",
    "        min_child_weight=1, \n",
    "        gamma=0, \n",
    "        subsample=0.8, \n",
    "        colsample_bytree=0.8,\n",
    "        n_jobs=-1, \n",
    "        scale_pos_weight=1, \n",
    "        seed=42), \n",
    "    param_grid = param3, scoring='accuracy',n_jobs=-1,iid=False, cv=5)\n",
    "gsearch3.fit(X_train,Y_train)\n",
    "gsearch3.grid_scores_, gsearch3.best_params_, gsearch3.best_score_"
   ]
  },
  {
   "cell_type": "code",
   "execution_count": 43,
   "metadata": {},
   "outputs": [
    {
     "name": "stderr",
     "output_type": "stream",
     "text": [
      "C:\\ProgramData\\Anaconda3\\lib\\site-packages\\sklearn\\model_selection\\_search.py:761: DeprecationWarning: The grid_scores_ attribute was deprecated in version 0.18 in favor of the more elaborate cv_results_ attribute. The grid_scores_ attribute will not be available from 0.20\n",
      "  DeprecationWarning)\n"
     ]
    },
    {
     "data": {
      "text/plain": [
       "([mean: 0.58532, std: 0.00824, params: {'gamma': 0.25},\n",
       "  mean: 0.58571, std: 0.00840, params: {'gamma': 0.3},\n",
       "  mean: 0.58545, std: 0.00816, params: {'gamma': 0.35}],\n",
       " {'gamma': 0.3},\n",
       " 0.5857137192891033)"
      ]
     },
     "execution_count": 43,
     "metadata": {},
     "output_type": "execute_result"
    }
   ],
   "source": [
    "param4 = {\n",
    "    'gamma':[0.25,0.3,0.35]\n",
    "}\n",
    "gsearch4 = GridSearchCV(estimator=XGBClassifier(\n",
    "        learning_rate =0.1,\n",
    "        n_estimators=10, \n",
    "        max_depth=5,\n",
    "        min_child_weight=1, \n",
    "        gamma=0, \n",
    "        subsample=0.8, \n",
    "        colsample_bytree=0.8,\n",
    "        n_jobs=-1, \n",
    "        scale_pos_weight=1, \n",
    "        seed=42), \n",
    "    param_grid = param4, scoring='accuracy',n_jobs=-1,iid=False, cv=5)\n",
    "gsearch4.fit(X_train,Y_train)\n",
    "gsearch4.grid_scores_, gsearch4.best_params_, gsearch4.best_score_"
   ]
  },
  {
   "cell_type": "code",
   "execution_count": 44,
   "metadata": {},
   "outputs": [
    {
     "name": "stderr",
     "output_type": "stream",
     "text": [
      "C:\\ProgramData\\Anaconda3\\lib\\site-packages\\sklearn\\model_selection\\_search.py:761: DeprecationWarning: The grid_scores_ attribute was deprecated in version 0.18 in favor of the more elaborate cv_results_ attribute. The grid_scores_ attribute will not be available from 0.20\n",
      "  DeprecationWarning)\n"
     ]
    },
    {
     "data": {
      "text/plain": [
       "([mean: 0.58259, std: 0.00906, params: {'colsample_bytree': 0.6, 'subsample': 0.6},\n",
       "  mean: 0.58532, std: 0.00917, params: {'colsample_bytree': 0.6, 'subsample': 0.7},\n",
       "  mean: 0.58324, std: 0.00853, params: {'colsample_bytree': 0.6, 'subsample': 0.8},\n",
       "  mean: 0.58480, std: 0.00910, params: {'colsample_bytree': 0.6, 'subsample': 0.9},\n",
       "  mean: 0.58480, std: 0.01057, params: {'colsample_bytree': 0.7, 'subsample': 0.6},\n",
       "  mean: 0.58337, std: 0.00711, params: {'colsample_bytree': 0.7, 'subsample': 0.7},\n",
       "  mean: 0.58454, std: 0.00688, params: {'colsample_bytree': 0.7, 'subsample': 0.8},\n",
       "  mean: 0.58558, std: 0.00648, params: {'colsample_bytree': 0.7, 'subsample': 0.9},\n",
       "  mean: 0.58428, std: 0.00774, params: {'colsample_bytree': 0.8, 'subsample': 0.6},\n",
       "  mean: 0.58402, std: 0.00882, params: {'colsample_bytree': 0.8, 'subsample': 0.7},\n",
       "  mean: 0.58571, std: 0.00840, params: {'colsample_bytree': 0.8, 'subsample': 0.8},\n",
       "  mean: 0.58558, std: 0.00746, params: {'colsample_bytree': 0.8, 'subsample': 0.9},\n",
       "  mean: 0.58519, std: 0.00813, params: {'colsample_bytree': 0.9, 'subsample': 0.6},\n",
       "  mean: 0.58558, std: 0.00880, params: {'colsample_bytree': 0.9, 'subsample': 0.7},\n",
       "  mean: 0.58532, std: 0.00808, params: {'colsample_bytree': 0.9, 'subsample': 0.8},\n",
       "  mean: 0.58636, std: 0.00725, params: {'colsample_bytree': 0.9, 'subsample': 0.9}],\n",
       " {'colsample_bytree': 0.9, 'subsample': 0.9},\n",
       " 0.5863648460019443)"
      ]
     },
     "execution_count": 44,
     "metadata": {},
     "output_type": "execute_result"
    }
   ],
   "source": [
    "param5 = {\n",
    "    'subsample':[i/10.0 for i in range(6,10)],\n",
    "    'colsample_bytree':[i/10.0 for i in range(6,10)]\n",
    "}\n",
    "gsearch5 = GridSearchCV(estimator=XGBClassifier(\n",
    "        learning_rate =0.1,\n",
    "        n_estimators=10, \n",
    "        max_depth=5,\n",
    "        min_child_weight=1, \n",
    "        gamma=0.3, \n",
    "        subsample=0.8, \n",
    "        colsample_bytree=0.8,\n",
    "        n_jobs=-1, \n",
    "        scale_pos_weight=1, \n",
    "        seed=42), \n",
    "    param_grid = param5, scoring='accuracy',n_jobs=-1,iid=False, cv=5)\n",
    "gsearch5.fit(X_train,Y_train)\n",
    "gsearch5.grid_scores_, gsearch5.best_params_, gsearch5.best_score_"
   ]
  },
  {
   "cell_type": "code",
   "execution_count": 45,
   "metadata": {},
   "outputs": [
    {
     "name": "stderr",
     "output_type": "stream",
     "text": [
      "C:\\ProgramData\\Anaconda3\\lib\\site-packages\\sklearn\\model_selection\\_search.py:761: DeprecationWarning: The grid_scores_ attribute was deprecated in version 0.18 in favor of the more elaborate cv_results_ attribute. The grid_scores_ attribute will not be available from 0.20\n",
      "  DeprecationWarning)\n"
     ]
    },
    {
     "data": {
      "text/plain": [
       "([mean: 0.58636, std: 0.00725, params: {'colsample_bytree': 0.9, 'subsample': 0.9},\n",
       "  mean: 0.58363, std: 0.00721, params: {'colsample_bytree': 0.9, 'subsample': 0.925},\n",
       "  mean: 0.58363, std: 0.00768, params: {'colsample_bytree': 0.9, 'subsample': 0.95},\n",
       "  mean: 0.58506, std: 0.00695, params: {'colsample_bytree': 0.925, 'subsample': 0.9},\n",
       "  mean: 0.58389, std: 0.00767, params: {'colsample_bytree': 0.925, 'subsample': 0.925},\n",
       "  mean: 0.58376, std: 0.00650, params: {'colsample_bytree': 0.925, 'subsample': 0.95},\n",
       "  mean: 0.58519, std: 0.00691, params: {'colsample_bytree': 0.95, 'subsample': 0.9},\n",
       "  mean: 0.58272, std: 0.00690, params: {'colsample_bytree': 0.95, 'subsample': 0.925},\n",
       "  mean: 0.58311, std: 0.00838, params: {'colsample_bytree': 0.95, 'subsample': 0.95}],\n",
       " {'colsample_bytree': 0.9, 'subsample': 0.9},\n",
       " 0.5863648460019443)"
      ]
     },
     "execution_count": 45,
     "metadata": {},
     "output_type": "execute_result"
    }
   ],
   "source": [
    "param6 = {\n",
    "    'subsample':[0.9,0.925,0.95],\n",
    "    'colsample_bytree':[0.9,0.925,0.95]\n",
    "}\n",
    "gsearch6 = GridSearchCV(estimator=XGBClassifier(\n",
    "        learning_rate =0.1,\n",
    "        n_estimators=10, \n",
    "        max_depth=5,\n",
    "        min_child_weight=1, \n",
    "        gamma=0.3, \n",
    "        subsample=0.8, \n",
    "        colsample_bytree=0.8,\n",
    "        n_jobs=-1, \n",
    "        scale_pos_weight=1, \n",
    "        seed=42), \n",
    "    param_grid = param6, scoring='accuracy',n_jobs=-1,iid=False, cv=5)\n",
    "gsearch6.fit(X_train,Y_train)\n",
    "gsearch6.grid_scores_, gsearch6.best_params_, gsearch6.best_score_"
   ]
  },
  {
   "cell_type": "code",
   "execution_count": 46,
   "metadata": {},
   "outputs": [
    {
     "name": "stderr",
     "output_type": "stream",
     "text": [
      "C:\\ProgramData\\Anaconda3\\lib\\site-packages\\sklearn\\model_selection\\_search.py:761: DeprecationWarning: The grid_scores_ attribute was deprecated in version 0.18 in favor of the more elaborate cv_results_ attribute. The grid_scores_ attribute will not be available from 0.20\n",
      "  DeprecationWarning)\n"
     ]
    },
    {
     "data": {
      "text/plain": [
       "([mean: 0.58636, std: 0.00725, params: {'reg_alpha': 1e-05},\n",
       "  mean: 0.58610, std: 0.00726, params: {'reg_alpha': 0.01},\n",
       "  mean: 0.58376, std: 0.00853, params: {'reg_alpha': 0.1},\n",
       "  mean: 0.58272, std: 0.00699, params: {'reg_alpha': 1},\n",
       "  mean: 0.55021, std: 0.00054, params: {'reg_alpha': 100}],\n",
       " {'reg_alpha': 1e-05},\n",
       " 0.5863648460019443)"
      ]
     },
     "execution_count": 46,
     "metadata": {},
     "output_type": "execute_result"
    }
   ],
   "source": [
    "param_test7 = {\n",
    "    'reg_alpha':[1e-5, 1e-2, 0.1, 1, 100]\n",
    "}\n",
    "gsearch7 = GridSearchCV(estimator=XGBClassifier(\n",
    "        learning_rate =0.1,\n",
    "        n_estimators=10, \n",
    "        max_depth=5,\n",
    "        min_child_weight=1, \n",
    "        gamma=0.3, \n",
    "        subsample=0.9, \n",
    "        colsample_bytree=0.9,\n",
    "        n_jobs=-1, \n",
    "        scale_pos_weight=1, \n",
    "        seed=42), \n",
    "    param_grid = param_test7, scoring='accuracy',n_jobs=-1,iid=False, cv=5)\n",
    "gsearch7.fit(X_train,Y_train)\n",
    "gsearch7.grid_scores_, gsearch7.best_params_, gsearch7.best_score_"
   ]
  },
  {
   "cell_type": "code",
   "execution_count": 47,
   "metadata": {},
   "outputs": [
    {
     "name": "stderr",
     "output_type": "stream",
     "text": [
      "C:\\ProgramData\\Anaconda3\\lib\\site-packages\\sklearn\\model_selection\\_search.py:761: DeprecationWarning: The grid_scores_ attribute was deprecated in version 0.18 in favor of the more elaborate cv_results_ attribute. The grid_scores_ attribute will not be available from 0.20\n",
      "  DeprecationWarning)\n"
     ]
    },
    {
     "data": {
      "text/plain": [
       "([mean: 0.58636, std: 0.00725, params: {'reg_alpha': 1e-07},\n",
       "  mean: 0.58636, std: 0.00725, params: {'reg_alpha': 1e-06},\n",
       "  mean: 0.58636, std: 0.00725, params: {'reg_alpha': 1e-05}],\n",
       " {'reg_alpha': 1e-07},\n",
       " 0.5863648460019443)"
      ]
     },
     "execution_count": 47,
     "metadata": {},
     "output_type": "execute_result"
    }
   ],
   "source": [
    "param_test8 = {\n",
    "    'reg_alpha':[1e-7,1e-6,1e-5]\n",
    "}\n",
    "gsearch8 = GridSearchCV(estimator=XGBClassifier(\n",
    "        learning_rate =0.1,\n",
    "        n_estimators=10, \n",
    "        max_depth=5,\n",
    "        min_child_weight=1, \n",
    "        gamma=0.3, \n",
    "        subsample=0.9, \n",
    "        colsample_bytree=0.9,\n",
    "        n_jobs=-1, \n",
    "        scale_pos_weight=1, \n",
    "        seed=42), \n",
    "    param_grid = param_test8, scoring='accuracy',n_jobs=-1,iid=False, cv=5)\n",
    "gsearch8.fit(X_train,Y_train)\n",
    "gsearch8.grid_scores_, gsearch8.best_params_, gsearch8.best_score_"
   ]
  },
  {
   "cell_type": "code",
   "execution_count": 53,
   "metadata": {},
   "outputs": [
    {
     "name": "stdout",
     "output_type": "stream",
     "text": [
      "26.3 s ± 530 ms per loop (mean ± std. dev. of 7 runs, 1 loop each)\n"
     ]
    }
   ],
   "source": [
    "xgb_c = XGBClassifier(\n",
    "    learning_rate =0.1,\n",
    "    n_estimators=10, \n",
    "    max_depth=5,\n",
    "    min_child_weight=1, \n",
    "    gamma=0.3, \n",
    "    subsample=0.9, \n",
    "    colsample_bytree=0.9,\n",
    "    n_jobs=-1, \n",
    "    scale_pos_weight=1,\n",
    "    reg_alpha=1e-07,\n",
    "    seed=42)\n",
    "kfold = KFold(n_splits=5, shuffle=True, random_state=42)\n",
    "%timeit cross_val_score(xgb_c, X_train, Y_train, cv=kfold).mean()"
   ]
  },
  {
   "cell_type": "markdown",
   "metadata": {},
   "source": [
    "# Tuning hyperparameters for text vectorization"
   ]
  },
  {
   "cell_type": "markdown",
   "metadata": {},
   "source": [
    "First of all we have to remove the bad formatting and convert the commits to near clear text."
   ]
  },
  {
   "cell_type": "code",
   "execution_count": 178,
   "metadata": {},
   "outputs": [],
   "source": [
    "import re\n",
    "def clean_text(text):\n",
    "    text = text.lower()\n",
    "    text = text.replace('\\n', ' ')\n",
    "    text = text.replace('```', '')\n",
    "    text = re.sub(r'\\[.*\\]', '', text)\n",
    "    #text = text.replace(r'http\\S+', '')\n",
    "    text = text.replace('##', '')\n",
    "    text = re.sub(r'\\w+:\\/{2}[\\d\\w-]+(\\.[\\d\\w-]+)*(?:(?:\\/[^\\s/]*))*', '', text)\n",
    "    text = re.sub(r\"\\.\",' ',text)\n",
    "    text = re.sub(r\"\\(\",' ',text)\n",
    "    text = re.sub(r\"\\)\",' ',text)\n",
    "    text = re.sub(r\"\\/\",' ',text)\n",
    "    text = re.sub(r\"what's\", \"what is \", text)\n",
    "    text = re.sub(r\"\\'s\", \" \", text)\n",
    "    text = re.sub(r\"\\'ve\", \" have \", text)\n",
    "    text = re.sub(r\"can't\", \"can not \", text)\n",
    "    text = re.sub(r\"n't\", \" not \", text)\n",
    "    text = re.sub(r\"i'm\", \"i am \", text)\n",
    "    text = re.sub(r\"\\'re\", \" are \", text)\n",
    "    text = re.sub(r\"\\'d\", \" would \", text)\n",
    "    text = re.sub(r\"\\'ll\", \" will \", text)\n",
    "    text = text.strip(' ')\n",
    "    return text\n",
    "dataset['message_encoding'] = dataset.message_encoding.apply(lambda x: clean_text(x))"
   ]
  },
  {
   "cell_type": "markdown",
   "metadata": {},
   "source": [
    "Now it's time to tune our text vectorizer by tuning the amount of features, n_grams and the use of idf on TfidfTransformer.\n",
    "As text is our main set of features, we have to pay close attention to how these changes affect the model's result."
   ]
  },
  {
   "cell_type": "code",
   "execution_count": 168,
   "metadata": {
    "scrolled": true
   },
   "outputs": [
    {
     "data": {
      "text/plain": [
       "([mean: 0.47678, std: 0.03885, params: {'tfidf__use_idf': True, 'vect__max_features': 1000, 'vect__ngram_range': (1, 1)},\n",
       "  mean: 0.46431, std: 0.03331, params: {'tfidf__use_idf': True, 'vect__max_features': 1000, 'vect__ngram_range': (1, 2)},\n",
       "  mean: 0.45264, std: 0.03387, params: {'tfidf__use_idf': True, 'vect__max_features': 1000, 'vect__ngram_range': (1, 3)},\n",
       "  mean: 0.47503, std: 0.04255, params: {'tfidf__use_idf': True, 'vect__max_features': 1000, 'vect__ngram_range': (2, 1)},\n",
       "  mean: 0.47983, std: 0.04788, params: {'tfidf__use_idf': True, 'vect__max_features': 1000, 'vect__ngram_range': (2, 2)},\n",
       "  mean: 0.47259, std: 0.04188, params: {'tfidf__use_idf': True, 'vect__max_features': 1000, 'vect__ngram_range': (3, 1)},\n",
       "  mean: 0.48270, std: 0.03991, params: {'tfidf__use_idf': True, 'vect__max_features': 2000, 'vect__ngram_range': (1, 1)},\n",
       "  mean: 0.45987, std: 0.04352, params: {'tfidf__use_idf': True, 'vect__max_features': 2000, 'vect__ngram_range': (1, 2)},\n",
       "  mean: 0.46292, std: 0.03765, params: {'tfidf__use_idf': True, 'vect__max_features': 2000, 'vect__ngram_range': (1, 3)},\n",
       "  mean: 0.48793, std: 0.03809, params: {'tfidf__use_idf': True, 'vect__max_features': 2000, 'vect__ngram_range': (2, 1)},\n",
       "  mean: 0.47721, std: 0.04400, params: {'tfidf__use_idf': True, 'vect__max_features': 2000, 'vect__ngram_range': (2, 2)},\n",
       "  mean: 0.48279, std: 0.04844, params: {'tfidf__use_idf': True, 'vect__max_features': 2000, 'vect__ngram_range': (3, 1)},\n",
       "  mean: 0.48261, std: 0.03706, params: {'tfidf__use_idf': True, 'vect__max_features': 3000, 'vect__ngram_range': (1, 1)},\n",
       "  mean: 0.47224, std: 0.04179, params: {'tfidf__use_idf': True, 'vect__max_features': 3000, 'vect__ngram_range': (1, 2)},\n",
       "  mean: 0.47155, std: 0.02800, params: {'tfidf__use_idf': True, 'vect__max_features': 3000, 'vect__ngram_range': (1, 3)},\n",
       "  mean: 0.48610, std: 0.04042, params: {'tfidf__use_idf': True, 'vect__max_features': 3000, 'vect__ngram_range': (2, 1)},\n",
       "  mean: 0.48288, std: 0.04077, params: {'tfidf__use_idf': True, 'vect__max_features': 3000, 'vect__ngram_range': (2, 2)},\n",
       "  mean: 0.49359, std: 0.04286, params: {'tfidf__use_idf': True, 'vect__max_features': 3000, 'vect__ngram_range': (3, 1)},\n",
       "  mean: 0.48340, std: 0.05147, params: {'tfidf__use_idf': False, 'vect__max_features': 1000, 'vect__ngram_range': (1, 1)},\n",
       "  mean: 0.46954, std: 0.03633, params: {'tfidf__use_idf': False, 'vect__max_features': 1000, 'vect__ngram_range': (1, 2)},\n",
       "  mean: 0.45203, std: 0.02937, params: {'tfidf__use_idf': False, 'vect__max_features': 1000, 'vect__ngram_range': (1, 3)},\n",
       "  mean: 0.47068, std: 0.04400, params: {'tfidf__use_idf': False, 'vect__max_features': 1000, 'vect__ngram_range': (2, 1)},\n",
       "  mean: 0.47747, std: 0.05274, params: {'tfidf__use_idf': False, 'vect__max_features': 1000, 'vect__ngram_range': (2, 2)},\n",
       "  mean: 0.47721, std: 0.03943, params: {'tfidf__use_idf': False, 'vect__max_features': 1000, 'vect__ngram_range': (3, 1)},\n",
       "  mean: 0.48671, std: 0.03300, params: {'tfidf__use_idf': False, 'vect__max_features': 2000, 'vect__ngram_range': (1, 1)},\n",
       "  mean: 0.46126, std: 0.04101, params: {'tfidf__use_idf': False, 'vect__max_features': 2000, 'vect__ngram_range': (1, 2)},\n",
       "  mean: 0.46719, std: 0.03416, params: {'tfidf__use_idf': False, 'vect__max_features': 2000, 'vect__ngram_range': (1, 3)},\n",
       "  mean: 0.48828, std: 0.04173, params: {'tfidf__use_idf': False, 'vect__max_features': 2000, 'vect__ngram_range': (2, 1)},\n",
       "  mean: 0.48087, std: 0.04829, params: {'tfidf__use_idf': False, 'vect__max_features': 2000, 'vect__ngram_range': (2, 2)},\n",
       "  mean: 0.48505, std: 0.03715, params: {'tfidf__use_idf': False, 'vect__max_features': 2000, 'vect__ngram_range': (3, 1)},\n",
       "  mean: 0.49098, std: 0.03768, params: {'tfidf__use_idf': False, 'vect__max_features': 3000, 'vect__ngram_range': (1, 1)},\n",
       "  mean: 0.47041, std: 0.03943, params: {'tfidf__use_idf': False, 'vect__max_features': 3000, 'vect__ngram_range': (1, 2)},\n",
       "  mean: 0.46536, std: 0.02383, params: {'tfidf__use_idf': False, 'vect__max_features': 3000, 'vect__ngram_range': (1, 3)},\n",
       "  mean: 0.49272, std: 0.03932, params: {'tfidf__use_idf': False, 'vect__max_features': 3000, 'vect__ngram_range': (2, 1)},\n",
       "  mean: 0.47425, std: 0.04080, params: {'tfidf__use_idf': False, 'vect__max_features': 3000, 'vect__ngram_range': (2, 2)},\n",
       "  mean: 0.49420, std: 0.04565, params: {'tfidf__use_idf': False, 'vect__max_features': 3000, 'vect__ngram_range': (3, 1)}],\n",
       " {'tfidf__use_idf': False,\n",
       "  'vect__max_features': 3000,\n",
       "  'vect__ngram_range': (3, 1)},\n",
       " 0.49420479302832243)"
      ]
     },
     "execution_count": 168,
     "metadata": {},
     "output_type": "execute_result"
    }
   ],
   "source": [
    "from sklearn.ensemble import RandomForestClassifier\n",
    "text_encoding = Pipeline([\n",
    "        ('vect',CountVectorizer(stop_words='english')),\n",
    "        ('tfidf',TfidfTransformer()),\n",
    "        ('rf',RandomForestClassifier(n_jobs=-1,n_estimators=15))\n",
    "])\n",
    "\n",
    "dataset_clean = dataset.dropna()\n",
    "dataset_clean.reset_index(inplace=True)\n",
    "\n",
    "param_grid = {\n",
    "    'vect__ngram_range': [(1, 1), (1, 2),(1,3),(2,1),(2,2),(3,1)],\n",
    "    'tfidf__use_idf': (True, False),\n",
    "    'vect__max_features': [1000,2000,3000]\n",
    "}\n",
    "grid_text = GridSearchCV(text_encoding, cv=4, n_jobs=-1, param_grid=param_grid)\n",
    "grid_text.fit(dataset_clean['message_encoding'],dataset_clean['severity'])\n",
    "grid_text.grid_scores_, grid_text.best_params_, grid_text.best_score_"
   ]
  },
  {
   "cell_type": "code",
   "execution_count": 29,
   "metadata": {},
   "outputs": [],
   "source": [
    "text_encoding = Pipeline([\n",
    "        ('vect',CountVectorizer(stop_words='english',max_features=3000,ngram_range=(3,1))),\n",
    "        ('tfidf',TfidfTransformer(use_idf=False))\n",
    "])\n",
    "tf_train = text_encoding.fit_transform(dataset['message_encoding'])"
   ]
  },
  {
   "cell_type": "code",
   "execution_count": 51,
   "metadata": {},
   "outputs": [],
   "source": [
    "dataset_clean = dataset.drop(['message_encoding','human_date','human_time'],axis=1)\n",
    "\n",
    "tfidf = pd.DataFrame(tf_train.todense())\n",
    "dataset_clean_tf = dataset_clean.join(tfidf,how='left')\n",
    "\n",
    "unlabeled = dataset_clean_tf.loc[dataset_clean_tf.severity.isna()]\n",
    "dataset_clean_tf.dropna(inplace=True)\n",
    "dataset_clean_tf.reset_index(inplace=True)\n",
    "unlabeled.reset_index(inplace=True)\n",
    "dataset_clean_tf.drop(['index'],axis=1,inplace=True)\n",
    "\n",
    "X,Y = dataset_clean_tf.drop(['severity'],axis=1), dataset_clean_tf.severity\n",
    "\n",
    "unlabeled.drop(['severity'],axis=1,inplace=True)"
   ]
  },
  {
   "cell_type": "code",
   "execution_count": 52,
   "metadata": {},
   "outputs": [],
   "source": [
    "X_train, X_test, Y_train, Y_test = train_test_split(X, Y, test_size=0.33, random_state=42)"
   ]
  },
  {
   "cell_type": "code",
   "execution_count": 33,
   "metadata": {},
   "outputs": [
    {
     "name": "stderr",
     "output_type": "stream",
     "text": [
      "C:\\ProgramData\\Anaconda3\\lib\\site-packages\\sklearn\\preprocessing\\label.py:151: DeprecationWarning: The truth value of an empty array is ambiguous. Returning False, but in future this will result in an error. Use `array.size > 0` to check that an array is not empty.\n",
      "  if diff:\n"
     ]
    },
    {
     "data": {
      "text/plain": [
       "0.5941378399788751"
      ]
     },
     "execution_count": 33,
     "metadata": {},
     "output_type": "execute_result"
    }
   ],
   "source": [
    "xgb_c = XGBClassifier(\n",
    "    learning_rate =0.1,\n",
    "    n_estimators=120, \n",
    "    max_depth=5,\n",
    "    min_child_weight=1, \n",
    "    gamma=0.3, \n",
    "    subsample=0.9, \n",
    "    colsample_bytree=0.9,\n",
    "    n_jobs=-1, \n",
    "    scale_pos_weight=1,\n",
    "    reg_alpha=1e-07,\n",
    "    seed=42)\n",
    "\n",
    "xgb_c.fit(X_train,Y_train)\n",
    "accuracy_score(Y_test,xgb_c.predict(X_test))"
   ]
  },
  {
   "cell_type": "markdown",
   "metadata": {},
   "source": [
    "Now that we have our text ready, all that's left is to try and boost our score with semi-supervised learning."
   ]
  },
  {
   "cell_type": "markdown",
   "metadata": {},
   "source": [
    "# Semi-supervised labeling"
   ]
  },
  {
   "cell_type": "markdown",
   "metadata": {},
   "source": [
    "The point of this class is to train our model twice. The first time we train it to create labels for a part of our data that has NaN values. Then those training examples are added and the model is trained again on the bigger dataset."
   ]
  },
  {
   "cell_type": "code",
   "execution_count": 56,
   "metadata": {},
   "outputs": [],
   "source": [
    "from sklearn.utils import shuffle\n",
    "from sklearn.base import BaseEstimator, RegressorMixin\n",
    "class PseudoLabeler(BaseEstimator, RegressorMixin):\n",
    "    \n",
    "    def __init__(self, model, test, features, target, sample_rate=0.2, seed=42):\n",
    "        self.sample_rate = sample_rate\n",
    "        self.seed = seed\n",
    "        self.model = model\n",
    "        self.model.seed = seed\n",
    "        \n",
    "        self.test = test\n",
    "        self.features = features\n",
    "        self.target = target\n",
    "        \n",
    "    def get_params(self, deep=True):\n",
    "        return {\n",
    "            \"sample_rate\": self.sample_rate,\n",
    "            \"seed\": self.seed,\n",
    "            \"model\": self.model,\n",
    "            \"test\": self.test,\n",
    "            \"features\": self.features,\n",
    "            \"target\": self.target\n",
    "        }\n",
    "    def set_params(self, **parameters):\n",
    "        for parameter, value in parameters.items():\n",
    "            setattr(self, parameter, value)\n",
    "        return self\n",
    "        \n",
    "    def fit(self, X, y):\n",
    "        if self.sample_rate > 0.0:\n",
    "            augemented_train = self.__create_augmented_train(X, y)\n",
    "            self.model.fit(\n",
    "                augemented_train[self.features],\n",
    "                augemented_train[self.target]\n",
    "            )\n",
    "        else:\n",
    "            self.model.fit(X, y)\n",
    "        \n",
    "        return self\n",
    "    def __create_augmented_train(self, X, y):\n",
    "        num_of_samples = int(len(self.test) * self.sample_rate)\n",
    "        \n",
    "        # Train the model and creat the pseudo-labels\n",
    "        self.model.fit(X, y)\n",
    "        pseudo_labels = self.model.predict(self.test[self.features])\n",
    "        \n",
    "        # Add the pseudo-labels to the test set\n",
    "        augmented_test = self.test.copy(deep=True)\n",
    "        augmented_test[self.target] = pseudo_labels\n",
    "        \n",
    "        # Take a subset of the test set with pseudo-labels and append in onto\n",
    "        # the training set\n",
    "        sampled_test = augmented_test.sample(n=num_of_samples)\n",
    "        temp_train = pd.concat([X, y], axis=1)\n",
    "        augemented_train = pd.concat([sampled_test, temp_train])\n",
    "        return shuffle(augemented_train)\n",
    "        \n",
    "    def predict(self, X):\n",
    "        return self.model.predict(X)\n",
    "    \n",
    "    def get_model_name(self):\n",
    "        return self.model.__class__.__name__\n",
    "    \n",
    "    def feature_importances(self):\n",
    "        return self.model.feature_importances_"
   ]
  },
  {
   "cell_type": "code",
   "execution_count": 44,
   "metadata": {},
   "outputs": [
    {
     "name": "stderr",
     "output_type": "stream",
     "text": [
      "C:\\ProgramData\\Anaconda3\\lib\\site-packages\\sklearn\\preprocessing\\label.py:151: DeprecationWarning: The truth value of an empty array is ambiguous. Returning False, but in future this will result in an error. Use `array.size > 0` to check that an array is not empty.\n",
      "  if diff:\n",
      "C:\\ProgramData\\Anaconda3\\lib\\site-packages\\ipykernel_launcher.py:55: FutureWarning: Sorting because non-concatenation axis is not aligned. A future version\n",
      "of pandas will change to not sort by default.\n",
      "\n",
      "To accept the future behavior, pass 'sort=True'.\n",
      "\n",
      "To retain the current behavior and silence the warning, pass sort=False\n",
      "\n"
     ]
    },
    {
     "name": "stdout",
     "output_type": "stream",
     "text": [
      "Accuracy on test dataset: 0.5960 \n"
     ]
    },
    {
     "name": "stderr",
     "output_type": "stream",
     "text": [
      "C:\\ProgramData\\Anaconda3\\lib\\site-packages\\sklearn\\preprocessing\\label.py:151: DeprecationWarning: The truth value of an empty array is ambiguous. Returning False, but in future this will result in an error. Use `array.size > 0` to check that an array is not empty.\n",
      "  if diff:\n"
     ]
    }
   ],
   "source": [
    "semi_model = PseudoLabeler(\n",
    "    XGBClassifier(\n",
    "        learning_rate =0.1,\n",
    "        n_estimators=120, \n",
    "        max_depth=5,\n",
    "        min_child_weight=1, \n",
    "        gamma=0.3, \n",
    "        subsample=0.9, \n",
    "        colsample_bytree=0.9,\n",
    "        n_jobs=-1, \n",
    "        scale_pos_weight=1,\n",
    "        reg_alpha=1e-07,\n",
    "        seed=42\n",
    "        ),\n",
    "    unlabeled,\n",
    "    X.columns,\n",
    "    'severity',\n",
    "    sample_rate=0.15\n",
    ")\n",
    "\n",
    "semi_model.fit(X_train,Y_train)\n",
    "print(\"Accuracy on test dataset: %.4f \" % accuracy_score(Y_test,semi_model.predict(X_test)))\n"
   ]
  },
  {
   "cell_type": "code",
   "execution_count": 54,
   "metadata": {},
   "outputs": [
    {
     "name": "stdout",
     "output_type": "stream",
     "text": [
      "Accuracy on test dataset: 0.5984 \n"
     ]
    }
   ],
   "source": [
    "final_classifier = PseudoLabeler(XGBClassifier(\n",
    "        learning_rate =0.1,\n",
    "        n_estimators=120, \n",
    "        max_depth=5,\n",
    "        min_child_weight=1, \n",
    "        gamma=0.3, \n",
    "        subsample=0.9, \n",
    "        colsample_bytree=0.9,\n",
    "        n_jobs=-1, \n",
    "        scale_pos_weight=1,\n",
    "        reg_alpha=1e-07,\n",
    "        seed=42\n",
    "        ),\n",
    "    unlabeled,\n",
    "    X.columns,\n",
    "    'severity',\n",
    "    sample_rate=0.2\n",
    ")\n",
    "\n",
    "\n",
    "final_classifier.fit(X_train,Y_train)\n",
    "print(\"Accuracy on test dataset: %.4f \" % accuracy_score(Y_test,final_classifier.predict(X_test)))"
   ]
  },
  {
   "cell_type": "markdown",
   "metadata": {},
   "source": [
    "<b>Confussion matrix</b>"
   ]
  },
  {
   "cell_type": "code",
   "execution_count": 65,
   "metadata": {},
   "outputs": [
    {
     "data": {
      "image/png": "[encoded data removed]",
      "text/plain": [
       "<Figure size 1080x720 with 2 Axes>"
      ]
     },
     "metadata": {},
     "output_type": "display_data"
    }
   ],
   "source": [
    "from sklearn.metrics import confusion_matrix\n",
    "f, ax = plt.subplots(figsize=(15,10))\n",
    "ax = sns.heatmap(confusion_matrix(Y_test,final_classifier.predict(X_test)), annot=True, fmt=\"d\")"
   ]
  },
  {
   "cell_type": "markdown",
   "metadata": {},
   "source": [
    "# Conclusions and afterthoughts"
   ]
  },
  {
   "cell_type": "markdown",
   "metadata": {},
   "source": [
    "<b><i>Algorithm overview</i></b><br><br>\n",
    "\n",
    "The algorithms that were tried out are Gaussian Naive Bayes, Random Forest, XGBoost, Decision Tree and fully connected Neural Network. Altough I did try to use SVC, but the dimensionality is too big and it usually underperforms to other algorithms in high dimensions, so after 30 minutes of it running on my PC I turned it off.<br><br>\n",
    "\n",
    "I think model results aren't surprising, because XGBoost has been on the rise for quite some time outperforming other ML algorithms. My reasoning on the subject of why it ourperformed every algorithm above is probably because it can 'evade' the dimensionality curse by not relying on any distance metric. Also the similarity between points is learned through adjustment of neighbors.<br><br>\n",
    "\n",
    "Second runner up was Random Forest Classifier. I think that it should be possible to reach around 58% using it, and surely would've done so if only xgboost did not outperform so greatly. It is a powerful ensemble algrotithm nonetheless.<br><br>\n",
    "\n",
    "Decision Trees are too simple for this task. A single tree can only go 3010 deep. They are usually used as some kind of baseline. Most of the time they are outperformed by Random Forest because it is simply a collection of Decision Trees.<br><br>\n",
    "\n",
    "Naive Bayes surprised me with it's score being right behind Neural Networks. I think the main key point why it performs so good is because it generates conditional probabilities over data and every feature is taken as an independent variable, meaning that the algorithm takes every feature as it's own contribution to the prediction, which leads it to being regardless of any possible correlations between features. Our features are mostly extracted from text and this is where Naive Bayes shines.<br><br>\n",
    "\n",
    "I think Neural Network is underrated here. Their overall possible effect is massive, and Deep Neural Networks outperform any algorithm here. The only problem with it is that our data is only ~7k samples on training, which is not even enough to see it ourperform everything. Things might've gone differently if all data was labeled.<br><br>\n",
    "\n",
    "<b><i>Model and results overvies</i></b><br><br>\n",
    "The final score after all text encoder's and xgboost tuning is <b>59.84</b>. We have a total of 5 classes, so a random model would've scored 0.2, which means that it surely has learned something.<br><br>\n",
    "Looking at the confusion matrix we can see the disbalanced classes kick in. Nearly in every column majority of the wrong predictions are on '3', which has the most labeled classes."
   ]
  },
  {
   "cell_type": "code",
   "execution_count": 66,
   "metadata": {},
   "outputs": [
    {
     "data": {
      "text/plain": [
       "3.0     4230\n",
       "1.0     1779\n",
       "5.0      664\n",
       "10.0     628\n",
       "0.0      387\n",
       "Name: severity, dtype: int64"
      ]
     },
     "execution_count": 66,
     "metadata": {},
     "output_type": "execute_result"
    }
   ],
   "source": [
    "Y_train.value_counts()"
   ]
  },
  {
   "cell_type": "markdown",
   "metadata": {},
   "source": [
    "Although if we take away all the false classification of $C_i,3$, then it would look more appealing. This is because the classes are heavily disbalanced. Balancing them would lead to a dataset of ~3k training samples and that would give a much worse result than this model. <br>\n",
    "The main task here is to correctly extract data from text and cleanse it. This is a step that gives the biggest performance boost that all the tuning combined.<br><br>\n",
    "Overall this task is very interesting and I would encourage people to try themselves out on this dataset and see what approaches they use in tackling this problem. I cannot say that I am pleased with these results, because there surely is room to improve on. I am genuinely interested in seeing how exactly a person with a score of >60 would tackle this problem and what their way of thinking about this task is."
   ]
  },
  {
   "cell_type": "markdown",
   "metadata": {},
   "source": [
    "<b> Thank you for this interesting task and hope to hear from you soon!</b></i>"
   ]
  }
 ],
 "metadata": {
  "kernelspec": {
   "display_name": "Python 3",
   "language": "python",
   "name": "python3"
  },
  "language_info": {
   "codemirror_mode": {
    "name": "ipython",
    "version": 3
   },
   "file_extension": ".py",
   "mimetype": "text/x-python",
   "name": "python",
   "nbconvert_exporter": "python",
   "pygments_lexer": "ipython3",
   "version": "3.6.5"
  }
 },
 "nbformat": 4,
 "nbformat_minor": 2
}
